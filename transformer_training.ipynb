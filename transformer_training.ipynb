{
 "cells": [
  {
   "attachments": {},
   "cell_type": "markdown",
   "metadata": {},
   "source": [
    "# Train transformer encoder \n",
    "\n",
    "The input of the sequence classifier is a timeseries of a high dimension vector.\n",
    "\n",
    "Train a encoder transformer from scratch, on sequence classification. Similar to BERT paper, we add a [CLS] token to the sequence start.\n",
    "Then we learn an embedding on the 10-dimensional feature vector, add positional encoding, and run the data through an encoder stack.\n",
    "We add a small feed-forward neural network to the final [CLS] token representation, plus a softmax for class prediction."
   ]
  },
  {
   "cell_type": "code",
   "execution_count": 16,
   "metadata": {},
   "outputs": [],
   "source": [
    "# Hyper parameters\n",
    "\n",
    "DATASET = \"dataset_career_con_2019.npz\"\n",
    "EPOCHS = 20\n",
    "D_MODEL = 4\n",
    "ATTENTION_HEADS = 3\n",
    "NUM_ENCODERS = 5\n",
    "BATCH_SIZE = 32\n",
    "WINDOW_SIZE = 128\n",
    "\n",
    "POSITIONAL_ENCODING_PERIOD = 5 * WINDOW_SIZE\n",
    "LR = 0.01\n",
    "DROPOUT = 0.1\n",
    "REGULARIZATION = 0.01\n",
    "KEY_DIM = D_MODEL\n",
    "DIM_FF = 4 * D_MODEL\n",
    "\n",
    "CLS = -1"
   ]
  },
  {
   "cell_type": "code",
   "execution_count": 17,
   "metadata": {},
   "outputs": [],
   "source": [
    "import tensorflow as tf\n",
    "import numpy as np\n",
    "import matplotlib.pyplot as plt\n",
    "from tensorflow.keras.regularizers import l2"
   ]
  },
  {
   "attachments": {},
   "cell_type": "markdown",
   "metadata": {},
   "source": [
    "## Transformer implementation"
   ]
  },
  {
   "cell_type": "code",
   "execution_count": 18,
   "metadata": {},
   "outputs": [],
   "source": [
    "def positional_encoding(length, depth):\n",
    "    \"\"\"\n",
    "    Compute a position encoding, as sinusoidal function.\n",
    "\n",
    "    Arguments:\n",
    "      - length: The period for the positional encoding\n",
    "      - depth: The hidden dimension of each token\n",
    "    \"\"\"\n",
    "    depth = depth/2\n",
    "\n",
    "    positions = np.arange(length)[:, np.newaxis]\n",
    "    depths = np.arange(depth)[np.newaxis, :]/depth\n",
    "\n",
    "    angle_rates = 1 / (10000**depths)\n",
    "    angle_rads = positions * angle_rates\n",
    "\n",
    "    pos_encoding = np.concatenate(\n",
    "        [np.sin(angle_rads), np.cos(angle_rads)],\n",
    "        axis=-1) \n",
    "\n",
    "    return tf.cast(pos_encoding, dtype=tf.float32)"
   ]
  },
  {
   "cell_type": "code",
   "execution_count": 19,
   "metadata": {},
   "outputs": [],
   "source": [
    "class PositionalEmbedding(tf.keras.layers.Layer):\n",
    "    \"\"\"\n",
    "    Learn an embedding for dimensionality reduction and add a fix positional encoding.\n",
    "    \"\"\"\n",
    "    def __init__(self, d_model, positional_encoding_period):\n",
    "        \"\"\"\n",
    "        Arguments:\n",
    "         - d_model: Dimension of token representations\n",
    "         - positional_encoding_period: The period of the positional encoding\n",
    "        \"\"\"\n",
    "        super().__init__()\n",
    "        self.d_model = d_model\n",
    "        self.embedding = tf.keras.layers.Dense(d_model) \n",
    "        self.pos_encoding = positional_encoding(length=positional_encoding_period, depth=d_model)\n",
    "\n",
    "\n",
    "    def call(self, x):\n",
    "        length = tf.shape(x)[1]\n",
    "        x = self.embedding(x)\n",
    "        # This factor sets the relative scale of the embedding and positonal_encoding.\n",
    "        x *= tf.math.sqrt(tf.cast(self.d_model, tf.float32))\n",
    "        x = x + self.pos_encoding[tf.newaxis, :length, :]\n",
    "        return x"
   ]
  },
  {
   "cell_type": "code",
   "execution_count": 20,
   "metadata": {},
   "outputs": [],
   "source": [
    "class SelfAttention(tf.keras.layers.Layer):\n",
    "    \"\"\"\n",
    "    Multi head attention + normalization + residual connection.\n",
    "    \"\"\"\n",
    "    def __init__(self, num_heads, key_dim, dropout_rate):\n",
    "        \"\"\"\n",
    "        Arguments:\n",
    "         - num_heads: The number of attention heads\n",
    "         - key_dim: The dimensionality of learned keys for self-attention\n",
    "         - dropout_rate: The dropout rate for multi-head attention\n",
    "        \"\"\"\n",
    "        super().__init__()\n",
    "        self.mha = tf.keras.layers.MultiHeadAttention(num_heads=num_heads, key_dim=key_dim, dropout=dropout_rate)\n",
    "        self.add = tf.keras.layers.Add()\n",
    "        self.layernorm = tf.keras.layers.LayerNormalization()\n",
    "\n",
    "\n",
    "    def call(self, x):\n",
    "        scores = self.mha(x,x,x)\n",
    "        # apply normalization before residual connection, as proposed in T5 paper\n",
    "        norm = self.layernorm(scores)\n",
    "        sum = self.add([x, norm])\n",
    "        return sum"
   ]
  },
  {
   "cell_type": "code",
   "execution_count": 21,
   "metadata": {},
   "outputs": [],
   "source": [
    "class FeedForward(tf.keras.layers.Layer):\n",
    "    \"\"\"\n",
    "    Feed forward neural network + normalization + residual connection.\n",
    "    \"\"\"\n",
    "    def __init__(self, d_model, dff, dropout_rate):\n",
    "        \"\"\"\n",
    "        Arguments:\n",
    "          - d_model: Dimension of token representations\n",
    "          - dff: Token dimension between the two dense layers of the feed forward neural network\n",
    "          - dropout_rate: Dropout after the two dense layers\n",
    "        \"\"\"\n",
    "        super().__init__()\n",
    "        self.nn = tf.keras.Sequential([\n",
    "            tf.keras.layers.Dense(dff, activation='relu'),\n",
    "            tf.keras.layers.Dense(d_model),\n",
    "            tf.keras.layers.Dropout(dropout_rate)\n",
    "        ])\n",
    "        self.layer_norm = tf.keras.layers.LayerNormalization()\n",
    "        self.add = tf.keras.layers.Add()\n",
    "\n",
    "\n",
    "    def call(self, x):\n",
    "        nn_output = self.nn(x)\n",
    "        norm = self.layer_norm(nn_output)\n",
    "        res = self.add([norm, x])\n",
    "        return res"
   ]
  },
  {
   "cell_type": "code",
   "execution_count": 22,
   "metadata": {},
   "outputs": [],
   "source": [
    "class EncoderLayer(tf.keras.layers.Layer):\n",
    "    \"\"\"\n",
    "    A complete encoder layer, including everything from self attention to feed forward neural network.\n",
    "    \"\"\"\n",
    "    def __init__(self, d_model, num_heads, key_dim, dff, dropout_rate):\n",
    "        \"\"\"\n",
    "        Arguments:\n",
    "          - d_model: Dimension of token representations\n",
    "          - num_heads: The number of attention heads\n",
    "          - key_dim: The dimensionality of learned keys for self-attention\n",
    "          - dff: Token dimension between the two dense layers of the feed forward neural network\n",
    "          - dropout_rate: Dropout rate in attention heads and in feed forward neural network\n",
    "        \"\"\"\n",
    "        super().__init__()\n",
    "\n",
    "        self.self_attention = SelfAttention(\n",
    "            num_heads=num_heads,\n",
    "            key_dim=key_dim,\n",
    "            dropout_rate=dropout_rate)\n",
    "\n",
    "        self.ffn = FeedForward(d_model, dff, dropout_rate)\n",
    "\n",
    "\n",
    "    def call(self, x):\n",
    "        x = self.self_attention(x)\n",
    "        x = self.ffn(x)\n",
    "        return x"
   ]
  },
  {
   "cell_type": "code",
   "execution_count": 23,
   "metadata": {},
   "outputs": [],
   "source": [
    "class ClassificationHead(tf.keras.layers.Layer):\n",
    "    \"\"\"\n",
    "    Classification head applied to final [CLS] token representation.\n",
    "    \"\"\"\n",
    "    def __init__(self, dff, regularization, dropout_rate, num_classes):\n",
    "        \"\"\"\n",
    "        Arguments:\n",
    "         - dff: Token dimension between the two dense layers\n",
    "         - regularization: Regularization is applied after first dense layer\n",
    "         - dropout_rate: Dropout rate after first dense layer\n",
    "         - num_classes: The number of classes we need to distinguish\n",
    "        \"\"\"\n",
    "        super().__init__()\n",
    "\n",
    "        self.first_dense = tf.keras.layers.Dense(dff, activation='relu', kernel_regularizer=l2(regularization))\n",
    "        self.dropout = tf.keras.layers.Dropout(dropout_rate)\n",
    "        self.second_dense = tf.keras.layers.Dense(num_classes, activation = 'softmax')\n",
    "\n",
    "\n",
    "    def call(self, x):\n",
    "        x = self.first_dense(x)\n",
    "        x = self.dropout(x)\n",
    "        x = self.second_dense(x)\n",
    "        return x"
   ]
  },
  {
   "cell_type": "code",
   "execution_count": 24,
   "metadata": {},
   "outputs": [],
   "source": [
    "class TransformerEncoder(tf.keras.Model):\n",
    "    \"\"\"\n",
    "    Everything from the embedding, to the encoder stack, to the CLS token classification\n",
    "    \"\"\"\n",
    "    def __init__(self, num_layers, d_model, num_heads, key_dim, dff,\n",
    "                 dropout_rate, positional_encoding_period, regularization, num_classes):\n",
    "        \"\"\"\n",
    "        Arguments:\n",
    "          - num_layers: Size of the encoder stack\n",
    "          - d_model: Dimension of token representations\n",
    "          - num_heads: The number of attention heads\n",
    "          - key_dim: The dimensionality of learned keys for self-attention\n",
    "          - dff: Token dimension between the two dense layers of the feed forward neural network\n",
    "          - dropout_rate: Dropout used throughout the transformer model\n",
    "          - positional_encoding_period: The period of the positional encoding\n",
    "          - regularization: L2 regularization used for classification head\n",
    "          - num_classes: The number of classes to predict\n",
    "        \"\"\"\n",
    "        super().__init__()\n",
    "\n",
    "        self.num_layers = num_layers\n",
    "        self.pos_embedding = PositionalEmbedding(d_model=d_model, positional_encoding_period=positional_encoding_period)\n",
    "        self.dropout_embedding = tf.keras.layers.Dropout(dropout_rate)\n",
    "        self.encoders = [\n",
    "            EncoderLayer(d_model=d_model,\n",
    "                         num_heads=num_heads,\n",
    "                         key_dim=key_dim,\n",
    "                         dff=dff,\n",
    "                         dropout_rate=dropout_rate)\n",
    "            for _ in range(num_layers)]\n",
    "        self.classification_head = ClassificationHead(dff=dff, regularization=regularization,\n",
    "                                                      dropout_rate=dropout_rate, num_classes=num_classes)\n",
    "        \n",
    "\n",
    "    def call(self, x):\n",
    "        \"\"\"\n",
    "        The complete forward path.\n",
    "        \n",
    "        Arguments:\n",
    "            - x: The input sequence of shape (batch size, time steps, features)\n",
    "        \"\"\"\n",
    "        x = self.pos_embedding(x)\n",
    "        x = self.dropout_embedding(x)\n",
    "        for i in range(self.num_layers):\n",
    "            x = self.encoders[i](x)\n",
    "        # Apply classification head to to final [CLS] token representation\n",
    "        cls_representation = x[:,0,:]\n",
    "        prediction = self.classification_head(cls_representation)\n",
    "        return prediction"
   ]
  },
  {
   "attachments": {},
   "cell_type": "markdown",
   "metadata": {},
   "source": [
    "## Load data"
   ]
  },
  {
   "cell_type": "code",
   "execution_count": 25,
   "metadata": {},
   "outputs": [],
   "source": [
    "def load_dataset_split(dataset):\n",
    "    \"\"\"\n",
    "    Load training and test data.\n",
    "    \"\"\"\n",
    "    load_dataset = np.load(dataset, allow_pickle=True)\n",
    "    x_train = load_dataset['x_train']\n",
    "    y_train = load_dataset['y_train']\n",
    "    x_test = load_dataset['x_test']\n",
    "    y_test = load_dataset['y_test']\n",
    "    return (x_train,y_train,x_test,y_test)"
   ]
  },
  {
   "cell_type": "code",
   "execution_count": 26,
   "metadata": {},
   "outputs": [],
   "source": [
    "def add_cls_token(x):\n",
    "    \"\"\"\n",
    "    Add a [CLS] token to each sequence\n",
    "    \"\"\"\n",
    "    cls_event = np.repeat(CLS, repeats = x.shape[2]).reshape(1,-1)\n",
    "    x = np.insert(x, 0, cls_event, axis=1)\n",
    "    return x"
   ]
  },
  {
   "cell_type": "code",
   "execution_count": 27,
   "metadata": {},
   "outputs": [],
   "source": [
    "# load dataset from NPZ file\n",
    "x_train,y_train,x_test,y_test = load_dataset_split(DATASET)\n",
    "\n",
    "# add CLS starter token to all sequences\n",
    "x_train = add_cls_token(x_train)\n",
    "x_test = add_cls_token(x_test)"
   ]
  },
  {
   "attachments": {},
   "cell_type": "markdown",
   "metadata": {},
   "source": [
    "## Perform the training"
   ]
  },
  {
   "cell_type": "code",
   "execution_count": 28,
   "metadata": {},
   "outputs": [
    {
     "name": "stderr",
     "output_type": "stream",
     "text": [
      "WARNING:absl:At this time, the v2.11+ optimizer `tf.keras.optimizers.Adam` runs slowly on M1/M2 Macs, please use the legacy Keras optimizer instead, located at `tf.keras.optimizers.legacy.Adam`.\n"
     ]
    },
    {
     "data": {
      "image/png": "[encoded data removed]",
      "text/plain": [
       "<Figure size 640x480 with 1 Axes>"
      ]
     },
     "metadata": {},
     "output_type": "display_data"
    }
   ],
   "source": [
    "# perform sequence classification training\n",
    "transformer = TransformerEncoder(\n",
    "    num_layers = NUM_ENCODERS,\n",
    "    d_model = D_MODEL,\n",
    "    num_heads = ATTENTION_HEADS,\n",
    "    key_dim = KEY_DIM,\n",
    "    dff = DIM_FF,\n",
    "    dropout_rate = DROPOUT,\n",
    "    positional_encoding_period = POSITIONAL_ENCODING_PERIOD,\n",
    "    regularization = REGULARIZATION,\n",
    "    num_classes = y_train.shape[1])\n",
    "optimizer = tf.keras.optimizers.Adam(learning_rate=LR)\n",
    "transformer.compile(\n",
    "    loss = 'categorical_crossentropy',\n",
    "    optimizer = optimizer,\n",
    "    metrics = ['accuracy'])\n",
    "history = transformer.fit(x_train, y_train, epochs = EPOCHS,\n",
    "                          validation_data = (x_test, y_test),\n",
    "                          batch_size = BATCH_SIZE,\n",
    "                          verbose=0)\n",
    "\n",
    "# draw training progress\n",
    "plt.plot(history.history['accuracy'])\n",
    "plt.plot(history.history['val_accuracy'])\n",
    "plt.title('Transformer training progress')\n",
    "plt.ylabel('Accuracy')\n",
    "plt.xlabel('Epoch')\n",
    "plt.legend(['Train', 'Test'], loc='lower right')\n",
    "plt.grid(visible=True)\n",
    "plt.show()"
   ]
  }
 ],
 "metadata": {
  "kernelspec": {
   "display_name": ".venv2",
   "language": "python",
   "name": "python3"
  },
  "language_info": {
   "codemirror_mode": {
    "name": "ipython",
    "version": 3
   },
   "file_extension": ".py",
   "mimetype": "text/x-python",
   "name": "python",
   "nbconvert_exporter": "python",
   "pygments_lexer": "ipython3",
   "version": "3.11.5"
  },
  "orig_nbformat": 4,
  "vscode": {
   "interpreter": {
    "hash": "96b81bb5ae1f46fa2466be5bf54b28cf8ebccd8da940dabcb51d602800b472ab"
   }
  }
 },
 "nbformat": 4,
 "nbformat_minor": 2
}
