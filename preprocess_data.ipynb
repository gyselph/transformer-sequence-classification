{
 "cells": [
  {
   "cell_type": "code",
   "execution_count": null,
   "metadata": {},
   "outputs": [],
   "source": [
    "# load data from csv into pandas dataframe"
   ]
  },
  {
   "cell_type": "code",
   "execution_count": 5,
   "metadata": {},
   "outputs": [
    {
     "name": "stdout",
     "output_type": "stream",
     "text": [
      "(487680, 13)\n",
      "['row_id', 'series_id', 'measurement_number', 'orientation_X', 'orientation_Y', 'orientation_Z', 'orientation_W', 'angular_velocity_X', 'angular_velocity_Y', 'angular_velocity_Z', 'linear_acceleration_X', 'linear_acceleration_Y', 'linear_acceleration_Z']\n"
     ]
    }
   ],
   "source": [
    "x_train = \"data/career-con-2019/X_train.csv\"\n",
    "import pandas as pd\n",
    "df = pd.read_csv(x_train)\n",
    "x_train_shape = df.shape\n",
    "print(x_train_shape)\n",
    "column_names = list(df.columns)\n",
    "print(column_names)"
   ]
  },
  {
   "cell_type": "markdown",
   "metadata": {},
   "source": [
    "normalize by colum"
   ]
  },
  {
   "cell_type": "code",
   "execution_count": 10,
   "metadata": {},
   "outputs": [
    {
     "name": "stdout",
     "output_type": "stream",
     "text": [
      "(487680, 13)\n",
      "['numeric__orientation_X' 'numeric__orientation_Y'\n",
      " 'numeric__orientation_Z' 'numeric__orientation_W'\n",
      " 'numeric__angular_velocity_X' 'numeric__angular_velocity_Y'\n",
      " 'numeric__angular_velocity_Z' 'numeric__linear_acceleration_X'\n",
      " 'numeric__linear_acceleration_Y' 'numeric__linear_acceleration_Z'\n",
      " 'remainder__row_id' 'remainder__series_id'\n",
      " 'remainder__measurement_number']\n",
      "  numeric__orientation_X numeric__orientation_Y numeric__orientation_Z  \\\n",
      "0              -1.079897              -1.001675               -1.10725   \n",
      "1              -1.079897              -1.001661              -1.107439   \n",
      "2              -1.079897              -1.001675              -1.107628   \n",
      "3              -1.079882              -1.001689              -1.107911   \n",
      "4              -1.079882              -1.001675              -1.107911   \n",
      "\n",
      "  numeric__orientation_W numeric__angular_velocity_X  \\\n",
      "0              -0.979549                    0.912613   \n",
      "1              -0.979837                    0.574656   \n",
      "2              -0.979549                    0.060266   \n",
      "3              -0.979549                   -0.112348   \n",
      "4              -0.979453                    0.042096   \n",
      "\n",
      "  numeric__angular_velocity_Y numeric__angular_velocity_Z  \\\n",
      "0                    0.104012                    0.087064   \n",
      "1                    0.243598                    0.098489   \n",
      "2                    0.232265                    0.057627   \n",
      "3                    0.125292                    0.044556   \n",
      "4                   -0.007735                    0.106605   \n",
      "\n",
      "  numeric__linear_acceleration_X numeric__linear_acceleration_Y  \\\n",
      "0                      -0.469289                      -0.366095   \n",
      "1                       0.112621                      -0.644872   \n",
      "2                      -0.210398                       -0.60478   \n",
      "3                       0.159072                        -0.8351   \n",
      "4                      -0.341586                      -0.662395   \n",
      "\n",
      "  numeric__linear_acceleration_Z remainder__row_id remainder__series_id  \\\n",
      "0                      -0.136474               0_0                    0   \n",
      "1                       -0.01684               0_1                    0   \n",
      "2                       0.224292               0_2                    0   \n",
      "3                      -0.256952               0_3                    0   \n",
      "4                      -0.378203               0_4                    0   \n",
      "\n",
      "  remainder__measurement_number  \n",
      "0                             0  \n",
      "1                             1  \n",
      "2                             2  \n",
      "3                             3  \n",
      "4                             4  \n"
     ]
    }
   ],
   "source": [
    "from sklearn.compose import ColumnTransformer\n",
    "from sklearn.preprocessing import StandardScaler\n",
    "ct = ColumnTransformer(\n",
    "    [\n",
    "        (\"numeric\", StandardScaler(), column_names[3:]),\n",
    "    ],\n",
    "    remainder='passthrough', n_jobs=-1)\n",
    "ct.fit(df)\n",
    "normalized = ct.transform(df)\n",
    "print(normalized.shape)\n",
    "new_columns = ct.get_feature_names_out()\n",
    "print(new_columns)\n",
    "df_normalized = pd.DataFrame(normalized, columns = new_columns)\n",
    "print(df_normalized.head())"
   ]
  },
  {
   "cell_type": "markdown",
   "metadata": {},
   "source": [
    "create dataset 3d dataset: (num_sequences,num_time_steps,num_features)"
   ]
  },
  {
   "cell_type": "code",
   "execution_count": 13,
   "metadata": {},
   "outputs": [],
   "source": [
    "import numpy as np\n",
    "\n",
    "num_sequences = max(df_normalized[\"remainder__series_id\"]) + 1\n",
    "num_time_steps = max(df_normalized[\"remainder__measurement_number\"]) + 1\n",
    "num_features = 10\n",
    "dataset_3d = np.zeros((num_sequences, num_time_steps, num_features))\n",
    "for i in range(len(df_normalized)):\n",
    "    series_id = df_normalized.iloc[i][\"remainder__series_id\"]\n",
    "    measurement_number = df_normalized.iloc[i][\"remainder__measurement_number\"]\n",
    "    data = list(df_normalized.iloc[i])[:num_features]\n",
    "    dataset_3d[series_id][measurement_number] = data\n"
   ]
  }
 ],
 "metadata": {
  "kernelspec": {
   "display_name": ".venv11",
   "language": "python",
   "name": "python3"
  },
  "language_info": {
   "codemirror_mode": {
    "name": "ipython",
    "version": 3
   },
   "file_extension": ".py",
   "mimetype": "text/x-python",
   "name": "python",
   "nbconvert_exporter": "python",
   "pygments_lexer": "ipython3",
   "version": "3.11.5"
  }
 },
 "nbformat": 4,
 "nbformat_minor": 2
}
